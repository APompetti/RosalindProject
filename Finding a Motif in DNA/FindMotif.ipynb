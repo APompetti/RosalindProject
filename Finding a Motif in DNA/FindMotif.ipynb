{
 "cells": [
  {
   "cell_type": "code",
   "execution_count": 127,
   "metadata": {},
   "outputs": [],
   "source": [
    "def findMotif(file):\n",
    "    f = open(file,\"r\")\n",
    "    contents = f.read()\n",
    "    f.close()\n",
    "    strings = contents.split()\n",
    "    lenstring = len(strings[0])\n",
    "    lensubstr = len(strings[1])\n",
    "    position = []\n",
    "    for i in range(0,lenstring - lensubstr,1):\n",
    "        if strings[0][i:i+lensubstr] == strings[1]:\n",
    "            position += [i+1]\n",
    "    answer = \" \".join(map(str,position))   \n",
    "    return answer"
   ]
  },
  {
   "cell_type": "code",
   "execution_count": 128,
   "metadata": {},
   "outputs": [
    {
     "name": "stdout",
     "output_type": "stream",
     "text": [
      "30 56 63 70 91 98 114 121 141 148 155 183 240 293 319 352 368 397 426 512 568 578 678 685 742 766 801 854 920 937\n"
     ]
    }
   ],
   "source": [
    "print(findMotif(\"E:\\\\Biddle Lab\\\\Rosalind Project\\\\rosalind_subs.txt\"))"
   ]
  }
 ],
 "metadata": {
  "kernelspec": {
   "display_name": "Python 3",
   "language": "python",
   "name": "python3"
  },
  "language_info": {
   "codemirror_mode": {
    "name": "ipython",
    "version": 3
   },
   "file_extension": ".py",
   "mimetype": "text/x-python",
   "name": "python",
   "nbconvert_exporter": "python",
   "pygments_lexer": "ipython3",
   "version": "3.8.2"
  }
 },
 "nbformat": 4,
 "nbformat_minor": 4
}
