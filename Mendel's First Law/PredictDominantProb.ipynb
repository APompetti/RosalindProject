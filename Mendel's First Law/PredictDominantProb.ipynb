{
 "cells": [
  {
   "cell_type": "code",
   "execution_count": 13,
   "metadata": {},
   "outputs": [],
   "source": [
    "def parsefasta(file):\n",
    "    f = open(file,\"r\")\n",
    "    contents = f.read()\n",
    "    f.close()\n",
    "    strings = contents.split(\" \")\n",
    "    ints = list(map(int,strings))\n",
    "    return ints"
   ]
  },
  {
   "cell_type": "code",
   "execution_count": 14,
   "metadata": {},
   "outputs": [
    {
     "output_type": "execute_result",
     "data": {
      "text/plain": "[2, 2, 2]"
     },
     "metadata": {},
     "execution_count": 14
    }
   ],
   "source": [
    "parsefasta(\"rosalind_dom.txt\")"
   ]
  },
  {
   "cell_type": "code",
   "execution_count": 24,
   "metadata": {},
   "outputs": [],
   "source": [
    "def domProbFirst(tuplex,tupley,total):\n",
    "    if tuplex[0] == tupley[0]:\n",
    "        result = (tuplex[1]/total) * ((tupley[1]-1)/(total-1))\n",
    "    else:\n",
    "        result = ((tuplex[1]/total) * tupley[1]/(total-1))\n",
    "    return result"
   ]
  },
  {
   "cell_type": "code",
   "execution_count": 25,
   "metadata": {},
   "outputs": [],
   "source": [
    "def domProbSecond(tuplex,tupley):\n",
    "    if tuplex[0] == \"k\" or tupley[0] == \"k\":\n",
    "        domProb = 1\n",
    "    elif tuplex[0] == \"m\" and tupley[0] == \"m\":\n",
    "        domProb = .75\n",
    "    elif (tuplex[0] == \"m\" and tupley[0] == \"n\") or (tuplex[0] == \"n\" and tupley[0] == \"m\"):\n",
    "        domProb = .5\n",
    "    elif tuplex[0] == \"n\" and tupley[0] == \"n\":\n",
    "        domProb = 0\n",
    "    return domProb"
   ]
  },
  {
   "cell_type": "code",
   "execution_count": 58,
   "metadata": {},
   "outputs": [],
   "source": [
    "def domAlleleProb(file):\n",
    "    ints = parsefasta(file)\n",
    "    poplist = [(\"k\",ints[0]),(\"m\",ints[1]),(\"n\",ints[2])]\n",
    "    k = poplist[0]\n",
    "    m = poplist[1]\n",
    "    n = poplist[2]\n",
    "    poptotal = k[1] + m[1] + n[1]\n",
    "    treekk = domProbFirst(k,k,poptotal) * domProbSecond(k,k)\n",
    "    treekm = domProbFirst(k,m,poptotal) * domProbSecond(k,m)\n",
    "    treekn = domProbFirst(k,n,poptotal) * domProbSecond(k,n)\n",
    "    treemm = domProbFirst(m,m,poptotal) * domProbSecond(m,m)\n",
    "    treemn = domProbFirst(m,n,poptotal) * domProbSecond(m,n)\n",
    "    treenn = domProbFirst(n,n,poptotal) * domProbSecond(n,n)\n",
    "    treetotal = treekk + treekm*2 + treekn*2 + treemm + treemn*2 + treenn\n",
    "    return round(treetotal,5)"
   ]
  },
  {
   "cell_type": "code",
   "execution_count": 59,
   "metadata": {
    "tags": []
   },
   "outputs": [
    {
     "output_type": "execute_result",
     "data": {
      "text/plain": "0.76943"
     },
     "metadata": {},
     "execution_count": 59
    }
   ],
   "source": [
    "domAlleleProb(\"rosalind_iprb.txt\")"
   ]
  }
 ],
 "metadata": {
  "kernelspec": {
   "display_name": "Python 3",
   "language": "python",
   "name": "python3"
  },
  "language_info": {
   "codemirror_mode": {
    "name": "ipython",
    "version": 3
   },
   "file_extension": ".py",
   "mimetype": "text/x-python",
   "name": "python",
   "nbconvert_exporter": "python",
   "pygments_lexer": "ipython3",
   "version": "3.8.2-final"
  }
 },
 "nbformat": 4,
 "nbformat_minor": 4
}