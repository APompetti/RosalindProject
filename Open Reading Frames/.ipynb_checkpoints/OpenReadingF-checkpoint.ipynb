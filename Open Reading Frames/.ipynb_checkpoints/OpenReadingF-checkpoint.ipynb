{
 "cells": [
  {
   "cell_type": "code",
   "execution_count": 2,
   "metadata": {},
   "outputs": [],
   "source": [
    "def parsefasta(file):\n",
    "    df = open(file, \"r\")\n",
    "    contents = df.read()\n",
    "    df.close()\n",
    "    strings = contents.split()\n",
    "    seq = ''.join(strings[1:])\n",
    "    return seq"
   ]
  },
  {
   "cell_type": "code",
   "execution_count": 3,
   "metadata": {},
   "outputs": [],
   "source": [
    "def parseCodonTable(file):\n",
    "    f = open(file,\"r\")\n",
    "    contents = f.read()\n",
    "    f.close()\n",
    "    codonTable = {}\n",
    "    strings = contents.split()\n",
    "    codons = strings[0::2]\n",
    "    aminoacids = strings[1::2]\n",
    "    for i in range(0,len(codons),1):\n",
    "        key = codons[i]\n",
    "        value = aminoacids[i]\n",
    "        codonTable[key] = value\n",
    "    return codonTable"
   ]
  },
  {
   "cell_type": "code",
   "execution_count": 4,
   "metadata": {},
   "outputs": [],
   "source": [
    "def revC(complement):\n",
    "    revcontent = \"\"\n",
    "    for i in complement[::-1]:\n",
    "        if i == \"T\":\n",
    "            revcontent += \"A\"\n",
    "        if i == \"A\":\n",
    "            revcontent += \"T\"\n",
    "        if i == \"C\":\n",
    "            revcontent += \"G\"\n",
    "        if i == \"G\":\n",
    "            revcontent += \"C\"      \n",
    "    return(revcontent)"
   ]
  },
  {
   "cell_type": "code",
   "execution_count": 5,
   "metadata": {},
   "outputs": [],
   "source": [
    "def dnaToRNA(dnastring):\n",
    "    dna = dnastring\n",
    "    rna = \"\"\n",
    "    for i in dna:\n",
    "        if i == \"T\":\n",
    "            rna += \"U\"\n",
    "        else:\n",
    "            rna += i\n",
    "    return rna"
   ]
  },
  {
   "cell_type": "code",
   "execution_count": 133,
   "metadata": {},
   "outputs": [],
   "source": [
    "def rnaToAmino(seq,codontable):\n",
    "    rna = seq\n",
    "    rnaLen = len(rna)\n",
    "    protein = \"\"\n",
    "    for i in range(0,rnaLen,3):\n",
    "        read = rna[i:i+3]\n",
    "        amino = codontable[read]\n",
    "        protein += amino\n",
    "    return protein"
   ]
  },
  {
   "cell_type": "code",
   "execution_count": 140,
   "metadata": {},
   "outputs": [],
   "source": [
    "def readingFrames(rna,codontable):\n",
    "    rna = rna\n",
    "    print(rna)\n",
    "    rnaLen = len(rna)\n",
    "    codonTable = codontable\n",
    "    i = 0\n",
    "    reading = False\n",
    "    protein = [None,None]\n",
    "    seqlist = []\n",
    "    while i < rnaLen:\n",
    "        if i + 3 > rnaLen:\n",
    "            break\n",
    "        read = rna[i:i+3]\n",
    "        amino = codonTable[read]\n",
    "        if reading == False and amino == \"M\":\n",
    "            start = i\n",
    "            print(start, \"start\")\n",
    "            reading = True\n",
    "        elif reading == True and amino == \"Stop\":\n",
    "            stop = i + 3\n",
    "            print(stop, \"stop\")\n",
    "            reading = False\n",
    "            orfstring = rna[start:stop]\n",
    "            protstring = rnaToAmino(orfstring,codonTable)\n",
    "            print(protstring)\n",
    "            i = start\n",
    "        if reading == True:\n",
    "            i = i + 3\n",
    "        if reading == False: \n",
    "            i = i + 1"
   ]
  },
  {
   "cell_type": "code",
   "execution_count": 141,
   "metadata": {},
   "outputs": [],
   "source": [
    "def main(fasta,codontable):\n",
    "    codonTable = parseCodonTable(codontable)\n",
    "    dna = parsefasta(fasta)\n",
    "    rna = dnaToRNA(dna)\n",
    "    revcomp = revC(dna)\n",
    "    rnarevcomp = dnaToRNA(revcomp)\n",
    "    readingFrames(rna,codonTable)\n",
    "    readingFrames(rnarevcomp, codonTable)"
   ]
  },
  {
   "cell_type": "code",
   "execution_count": 142,
   "metadata": {},
   "outputs": [
    {
     "name": "stdout",
     "output_type": "stream",
     "text": [
      "AGCCAUGUAGCUAACUCAGGUUACAUGGGGAUGACCCCGCGACUUGGAUUAGAGUCUCUUUUGGAAUAAGCCUGAAUGAUCCGAGUAGCAUCUCAG\n",
      "4 start\n",
      "10 stop\n",
      "MStop\n",
      "24 start\n",
      "69 stop\n",
      "MGMTPRLGLESLLEStop\n",
      "30 start\n",
      "69 stop\n",
      "MTPRLGLESLLEStop\n",
      "75 start\n",
      "CUGAGAUGCUACUCGGAUCAUUCAGGCUUAUUCCAAAAGAGACUCUAAUCCAAGUCGCGGGGUCAUCCCCAUGUAACCUGAGUUAGCUACAUGGCU\n",
      "5 start\n",
      "86 stop\n",
      "MLLGSFRLIPKETLIQVAGSSPCNLSStop\n",
      "70 start\n",
      "76 stop\n",
      "MStop\n",
      "90 start\n"
     ]
    }
   ],
   "source": [
    "main(\"rosalind_orf.txt\",\"rosalind_codontable.txt\")"
   ]
  },
  {
   "cell_type": "code",
   "execution_count": null,
   "metadata": {},
   "outputs": [],
   "source": []
  }
 ],
 "metadata": {
  "kernelspec": {
   "display_name": "Python 3",
   "language": "python",
   "name": "python3"
  },
  "language_info": {
   "codemirror_mode": {
    "name": "ipython",
    "version": 3
   },
   "file_extension": ".py",
   "mimetype": "text/x-python",
   "name": "python",
   "nbconvert_exporter": "python",
   "pygments_lexer": "ipython3",
   "version": "3.8.2"
  }
 },
 "nbformat": 4,
 "nbformat_minor": 4
}
