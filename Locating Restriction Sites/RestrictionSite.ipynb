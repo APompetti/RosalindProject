{
 "cells": [
  {
   "cell_type": "code",
   "execution_count": 178,
   "metadata": {},
   "outputs": [],
   "source": [
    "def parsefasta(file):\n",
    "    df = open(file, \"r\")\n",
    "    contents = df.read()\n",
    "    df.close()\n",
    "    strings = contents.split()\n",
    "    seq = ''.join(strings[1:])\n",
    "    return seq"
   ]
  },
  {
   "cell_type": "code",
   "execution_count": 179,
   "metadata": {},
   "outputs": [
    {
     "data": {
      "text/plain": [
       "'TATAGGAGTACCACGCTGGTTTACCTTCGCTTCCCCTAGCCGCCTGACTGACACATGGCTTGCAAAGTGGGCGTCGTTGCCAGAGGATTTGCAACAGTCGGGCTATGAGGGTGAGCGGAACCACTGCACAATGATGGCGGTTGTATGGCCAAAAGGACTCAGCACCTCATTCGCAGAACCCGTGTTCACGTATGGGCCGTGGCTAGGCGTTTATACCTGGCAGTGTATGGACACGTAGCCAACCGCAACCAATGTGCTACGAGAGCCTGGAAATGCGTGCGGCCAAGTCTAATGTTTCTGAGTTTAGGTTCTTTTGCCGAGAACGGCGACGAGCTCAGCGTCGTTTCATGTACCGTGCGCGCATCAATATCCGCTATGTGCCATGTCGAGATCTCTTTATATGCAGACGAAATCTTCCGGAAGATCCGAGTATGATGCACGGGGCAAACAATGCGCCATCTAATATAGTCCTATAAGTTAGTCGAGGAATGCTACTCCAGGGCACTGGTCACCAAACTAATGCCTTCGCCCGCTAGCCTGGTACGAGTTTTAGTCAGATCATAGGCCGGTCGTTCTCTTATTATAGCAGACCACGTCGGTGGCAAGAACTTGTCGCGAACACGTGTGGGAACTGCGGGTGGTTACCGAGGGCATGATCGCTACTTAAGTCCGCCCGTAGTTATGTGCCTGCTGGTCCAATCGGATTCGACCTAATCCGCCCTGCACGTTAATGCGACCTATTAATAGATGCTTAGGTATTATCACTTTTGAAAGGTGATATGGTCTGGTCTTGTATAGCTTAGAATTCTCATTGGATCTACTACCATCCCATGCGC'"
      ]
     },
     "execution_count": 179,
     "metadata": {},
     "output_type": "execute_result"
    }
   ],
   "source": [
    "parsefasta(\"E:\\\\Biddle Lab\\\\Rosalind Project\\\\rosalind_revp3.txt\")"
   ]
  },
  {
   "cell_type": "code",
   "execution_count": 175,
   "metadata": {},
   "outputs": [],
   "source": [
    "def reverseComp(seq):\n",
    "    revComp = \"\"\n",
    "    reverse = seq[::-1]\n",
    "    for i in reverse:\n",
    "        if i == \"T\":\n",
    "            revComp += \"A\"\n",
    "        if i == \"A\":\n",
    "            revComp += \"T\"\n",
    "        if i == \"C\":\n",
    "            revComp += \"G\"\n",
    "        if i == \"G\":\n",
    "            revComp += \"C\"\n",
    "    return revComp"
   ]
  },
  {
   "cell_type": "code",
   "execution_count": 139,
   "metadata": {},
   "outputs": [
    {
     "name": "stdout",
     "output_type": "stream",
     "text": [
      "TCAATGCATGCGGGTCTATATGCAT\n"
     ]
    },
    {
     "data": {
      "text/plain": [
       "'ATGCATATAGACCCGCATGCATTGA'"
      ]
     },
     "execution_count": 139,
     "metadata": {},
     "output_type": "execute_result"
    }
   ],
   "source": [
    "seq = \"TCAATGCATGCGGGTCTATATGCAT\"\n",
    "print(seq)\n",
    "reverseComp(seq)"
   ]
  },
  {
   "cell_type": "code",
   "execution_count": 184,
   "metadata": {},
   "outputs": [],
   "source": [
    "def locateRestrict(file):\n",
    "    seq = parsefasta(file)\n",
    "    seqLen = len(seq)\n",
    "    for position in range(0,seqLen):\n",
    "        for slicelen in range(4,13):\n",
    "            if (position + slicelen) > seqLen:\n",
    "                break\n",
    "            orig = seq[position:position + slicelen]\n",
    "            revC = reverseComp(orig)\n",
    "            if orig == revC:\n",
    "                print(position+1,slicelen)"
   ]
  },
  {
   "cell_type": "code",
   "execution_count": 186,
   "metadata": {},
   "outputs": [
    {
     "name": "stdout",
     "output_type": "stream",
     "text": [
      "1 4\n",
      "4 4\n",
      "42 4\n",
      "51 4\n",
      "57 4\n",
      "64 4\n",
      "83 6\n",
      "84 4\n",
      "91 4\n",
      "110 4\n",
      "120 4\n",
      "134 4\n",
      "138 4\n",
      "139 4\n",
      "156 4\n",
      "158 4\n",
      "160 6\n",
      "161 4\n",
      "177 4\n",
      "194 4\n",
      "207 4\n",
      "209 4\n",
      "223 4\n",
      "253 4\n",
      "291 4\n",
      "306 4\n",
      "328 4\n",
      "330 4\n",
      "336 4\n",
      "350 6\n",
      "351 4\n",
      "375 4\n",
      "379 4\n",
      "440 6\n",
      "441 4\n",
      "453 12\n",
      "454 10\n",
      "455 8\n",
      "456 6\n",
      "457 4\n",
      "467 4\n",
      "504 4\n",
      "506 4\n",
      "521 4\n",
      "523 8\n",
      "524 6\n",
      "525 4\n",
      "540 4\n",
      "574 4\n",
      "575 4\n",
      "637 4\n",
      "643 6\n",
      "644 4\n",
      "675 4\n",
      "679 4\n",
      "681 6\n",
      "682 4\n",
      "696 4\n",
      "747 4\n",
      "768 10\n",
      "769 8\n",
      "770 6\n",
      "771 4\n",
      "808 4\n",
      "818 6\n",
      "819 4\n",
      "825 4\n",
      "834 4\n",
      "848 4\n",
      "858 4\n",
      "881 4\n",
      "889 4\n",
      "904 6\n",
      "905 4\n",
      "913 4\n"
     ]
    }
   ],
   "source": [
    "locateRestrict(\"E:\\\\Biddle Lab\\\\Rosalind Project\\\\rosalind_revp.txt\")"
   ]
  },
  {
   "cell_type": "code",
   "execution_count": null,
   "metadata": {},
   "outputs": [],
   "source": []
  }
 ],
 "metadata": {
  "kernelspec": {
   "display_name": "Python 3",
   "language": "python",
   "name": "python3"
  },
  "language_info": {
   "codemirror_mode": {
    "name": "ipython",
    "version": 3
   },
   "file_extension": ".py",
   "mimetype": "text/x-python",
   "name": "python",
   "nbconvert_exporter": "python",
   "pygments_lexer": "ipython3",
   "version": "3.8.2"
  }
 },
 "nbformat": 4,
 "nbformat_minor": 4
}
