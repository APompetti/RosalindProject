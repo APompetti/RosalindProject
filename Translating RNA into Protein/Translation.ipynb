{
 "cells": [
  {
   "cell_type": "code",
   "execution_count": 10,
   "metadata": {},
   "outputs": [],
   "source": [
    "def parsefasta(file):\n",
    "    f = open(file,\"r\")\n",
    "    contents = f.read()\n",
    "    f.close()\n",
    "    return contents"
   ]
  },
  {
   "cell_type": "code",
   "execution_count": 11,
   "metadata": {},
   "outputs": [
    {
     "data": {
      "text/plain": [
       "'AUGGCCAUGGCGCCCAGAACUGAGAUCAAUAGUACCCGUAUUAACGGGUGA'"
      ]
     },
     "execution_count": 11,
     "metadata": {},
     "output_type": "execute_result"
    }
   ],
   "source": [
    "parsefasta(\"E:\\\\Biddle Lab\\\\Rosalind Project\\\\rosalind_prot.txt\")"
   ]
  },
  {
   "cell_type": "code",
   "execution_count": 55,
   "metadata": {},
   "outputs": [],
   "source": [
    "def parseCodonTable(file):\n",
    "    f = open(file,\"r\")\n",
    "    contents = f.read()\n",
    "    f.close()\n",
    "    codonTable = {}\n",
    "    strings = contents.split()\n",
    "    codons = strings[0::2]\n",
    "    aminoacids = strings[1::2]\n",
    "    for i in range(0,len(codons),1):\n",
    "        key = codons[i]\n",
    "        value = aminoacids[i]\n",
    "        codonTable[key] = value\n",
    "    return codonTable"
   ]
  },
  {
   "cell_type": "code",
   "execution_count": 56,
   "metadata": {},
   "outputs": [
    {
     "data": {
      "text/plain": [
       "{'UUU': 'F',\n",
       " 'CUU': 'L',\n",
       " 'AUU': 'I',\n",
       " 'GUU': 'V',\n",
       " 'UUC': 'F',\n",
       " 'CUC': 'L',\n",
       " 'AUC': 'I',\n",
       " 'GUC': 'V',\n",
       " 'UUA': 'L',\n",
       " 'CUA': 'L',\n",
       " 'AUA': 'I',\n",
       " 'GUA': 'V',\n",
       " 'UUG': 'L',\n",
       " 'CUG': 'L',\n",
       " 'AUG': 'M',\n",
       " 'GUG': 'V',\n",
       " 'UCU': 'S',\n",
       " 'CCU': 'P',\n",
       " 'ACU': 'T',\n",
       " 'GCU': 'A',\n",
       " 'UCC': 'S',\n",
       " 'CCC': 'P',\n",
       " 'ACC': 'T',\n",
       " 'GCC': 'A',\n",
       " 'UCA': 'S',\n",
       " 'CCA': 'P',\n",
       " 'ACA': 'T',\n",
       " 'GCA': 'A',\n",
       " 'UCG': 'S',\n",
       " 'CCG': 'P',\n",
       " 'ACG': 'T',\n",
       " 'GCG': 'A',\n",
       " 'UAU': 'Y',\n",
       " 'CAU': 'H',\n",
       " 'AAU': 'N',\n",
       " 'GAU': 'D',\n",
       " 'UAC': 'Y',\n",
       " 'CAC': 'H',\n",
       " 'AAC': 'N',\n",
       " 'GAC': 'D',\n",
       " 'UAA': 'Stop',\n",
       " 'CAA': 'Q',\n",
       " 'AAA': 'K',\n",
       " 'GAA': 'E',\n",
       " 'UAG': 'Stop',\n",
       " 'CAG': 'Q',\n",
       " 'AAG': 'K',\n",
       " 'GAG': 'E',\n",
       " 'UGU': 'C',\n",
       " 'CGU': 'R',\n",
       " 'AGU': 'S',\n",
       " 'GGU': 'G',\n",
       " 'UGC': 'C',\n",
       " 'CGC': 'R',\n",
       " 'AGC': 'S',\n",
       " 'GGC': 'G',\n",
       " 'UGA': 'Stop',\n",
       " 'CGA': 'R',\n",
       " 'AGA': 'R',\n",
       " 'GGA': 'G',\n",
       " 'UGG': 'W',\n",
       " 'CGG': 'R',\n",
       " 'AGG': 'R',\n",
       " 'GGG': 'G'}"
      ]
     },
     "execution_count": 56,
     "metadata": {},
     "output_type": "execute_result"
    }
   ],
   "source": [
    "parseCodonTable(\"E:\\\\Biddle Lab\\\\Rosalind Project\\\\rosalind_codontable.txt\")"
   ]
  },
  {
   "cell_type": "code",
   "execution_count": 75,
   "metadata": {},
   "outputs": [],
   "source": [
    "def translateProtein(file,file2):\n",
    "    rna = parsefasta(file)\n",
    "    codons = parseCodonTable(file2)\n",
    "    lenRNA = len(rna)\n",
    "    lenRNAsub = 3\n",
    "    transProt = \"\"\n",
    "    for i in range(0, lenRNA, 3):\n",
    "        key = rna[i:i+3]\n",
    "        if codons[key] == \"Stop\":\n",
    "            break\n",
    "        else:\n",
    "            transProt += codons[key]\n",
    "    return transProt"
   ]
  },
  {
   "cell_type": "code",
   "execution_count": 76,
   "metadata": {},
   "outputs": [
    {
     "data": {
      "text/plain": [
       "'MDLSIVTHRWAVPHESHAYYVSLSGCSRLRRYIGPPAILRSTDHTTDYLDSHVIGKIYSTSPDRRRFLCIGHFIFASHTIKPSSLVDGSGPIDKNEWFVTLQVRIPGVAHIDRESDPLRRRLGIVLDLRITLCLTRAGIYIFSEVTFKQCRPAPASCAYSLGFDITSWVYLFRKSVISSNIGRTHEVYREPWLLVFMPQLSSWGRLRVKLNYISRRRLPVGPTQLSVTPEKRQGCTKKISVAFVANYSGLIDGPILGRNLPITYSRDSTWVGVEISKSDPCSRTHVLYGLRVTRSMGHTIGCSGPRPRASISGERLNVRRGQPPSCHGKKAMTSRICVRRVLPMRSEYSKHSVVLLRRMIESSRKDAGDGHPVHSSEWLHRPIGPSPTGYHSRMTERFTTRTLIDDDGASHYRCTISSGNDITMLPASVYRVASINFFTTSFGQEPFYGSGPFTNTRVRLCLSEPRNIRLTLPFKLIHSTRGALSNMDVVRCSTGGTITPSLRGDLHMCRTYLWHENIMQFRVRATRSHIMVTPPSRRLLQSIEDVLRSNLTVRGALKRSLPRTGVSTKDCLAVCEVVRLPHNSQLSRSLSVLGQRLACVQRVHSTENVPKNGVKVTSCICSCSPIQRVGSIHFRQHPSVTIPGCRYLLRLPADIPCPKAVEFGMDRIKDHNFAVNSPVGFTLMCLATGGWIHLRRGLTQQQAWMTSSVPRNFHALDITCGCTKVKSVQVCACDNAAHGSAAESKTVTGKHPAASFCLRSHLVGYSDVGLHTSDRCMAGCLASLAKPSHSLTAYRDRPSHFTSDHFHFVTSCLRSVLRLLPDQIPTGKQRSTRYVCQRRGASHETGPLLSPKECFDDPHRESSAAFDLIQSLLSLLPLSGASNLCHRHSGLTSLSQVTYFWLAGPPCTIAFQHRSVAMNRICPRFRRQCPKAIVSKSTFEAMVLTLWDVPGLYIPLRSVPTFGRINSTCYRELLPTRWESGAKVLEREILVSPDHGRPRNNLCFEMASEVTQAWTLSSHCVQLEGLSPLRMNWVEAQRPKLRAVESDAYKIIQGGVSRASNNCSPDAIQAQCARRESILPWTCLSAEAQGDTQWAPVVSATDHAILKHILKAPPSLTGLRNPFCSRAAVRFGIPDEQYWSIGSGIIRNALSFAVRLCGWFVTPLIVISKNRRMVTTLRYSEHHRSGILWGSRGLDVNHTPKRTSDVLCKAGCIIYYLYRYSALGRYVLNENTISQEPDHWIYVVSNLATANLPYRLRFDDLYTHGAGDSSILYHHSIDTLRLLFSATQPLCPRPVYIGVNLYLKVVAQAISYCTKAKHHPATAEEHLQQLGHQRQCHLLDHNGGLPLATGIIQRVCPIWRRVVGQAYRDMIPKSGSARHTGRSTIPSKSPKKICGFADPRNKEDGRVVSGCLDEDPRGVMLLPPKRCRSHPRLLSGWARRVESTPRHPCKKVAIRKTTAKETRLRVSQESGGRFQANVKFCTCPMVPTNGWVILTVVSREPCSRRLNGPRLKLGRVVWSWARSPNDSNCPNATDLISRKCLLLQPHHEHCRKVTVFLFFILVIKLPGPSVWRVAADTWAQHTSDLDLKFLDRLKSQPQTTCQNARHNVTKARFASSSERSSALSLPLICYHYVKNQSGKTGHPVCFISLPLPMTLSVERSPGREDTTMRLISSLCKTGYALEAVCKNGPMFYVTINSQQDIRDRPALLLIYTTKLWVLRSSYATSKLTTSATIQGWTCDAHENRDVHSRHLHAHIIRGTFNRFEVPMNIPVTHQDDADCHQDPTYAFIQKVAGIKRNLPTVRRHLETPRIISRCSGIPARIPVVPRVKVTHVHNTIPYVSRDRQGARKLYQRENHEQHPSNMLHPNQVKGWYVLNFVHVYGGRALSTGFPRSLKNAGTVEYLCQPRIFCTYPTVELCKPRSTHGLFSCMYACFRGTVSRIRQRESTTLFGKLNLDRLPYVRTPHLSRTKSSSPSLTTLCACTPRLLSALGTAVPLFTGDLLASSMRKLIIRFLKEFPSIGFTRLENCADCKFHWLIELCCNFPRRFTTGVETLRPRDSVVRGFSRSNLACILIAIRLMCRHWALEAPCTFSRLSAKSSDLSAVTRGQQYETVIRPTDDRLGRLAPHWCEASYLEQDKKHELSLQLVGAHWWGQHQHLAARSFQASDGPRLTIREGSCCDRRLQIRLILCTIDGVSTNAPCLSHTIFVALKPAKATRCHGHFCLSTRKGRPRWCVSPYFARQDATQTALTREPDPSSLHYLVVSSVASLLLIECHSPAALPTPNDSLRTTSVYEPNRSTPPGSRGRHQTTAIAREADPLWGVGIGQLRRALTGPFKYTPTLKLCCNSPIYTSDWGDSLRRCLPTSPRHSPRLPLVSTDGPDARPQPVGPPLNGPLMISNSSPVVCTTPLERMYAAYSKVNHPMDNVGATFFRASPVGDVCLTPCYEHDTSRHYWLLTWACGSRNIKSMNPLRAHLYIVYRPSTLSGPLSDNSEQDESCPLRLPIACHSPAISCLLTDTGGLLTAICSGDMRLRDCQITQLQPDVSGTGHKLHILFEYSSNLHSQAPSPIRGIRSSGFVRHVFRPPTSFCIAAQALQRMEPSQADVVSGPSQFDRTAEMRTRDHYMQSHINCLSTVRVIGLYPRAPDSICALITTKLGLGTEIKINRPHHSCRLARFAGYRYWMIAPLKMPDPFRPATAERRAQAPWLTPIRRPMQYLRKFFIPQVVLLTCSNLGITLSEKRVGTGVRKGRISVARQTVWTYFHKELERFSPISSTRQQGVMWRRLDTCLLEVVTVHACSFPHWAIHKRRRILGKLSCRVGGVGTRASRLGPVGDLNTSSHLAEGTVRMLHIHWLGATIAVQCSCIFVLTSGERLLESLSSYHQSPECREGSFRFALLGCPGIILRRLLANRTQGIHLSLGVSDAIQFKAHSEGQIWDIEATIGILGIRHITKSQSTTVANRLLSATHWTRLIILIELRYSSARFYRNCEYHYLAIRFNKSRACCRFLPLPCVLFTAKNVNFSGYFPVNEAKLFSSVRSNRDQRRQDAKPYKIESRREEPMNGYVSNTIDTQSDSNHTGILCYLLRRRVGPPLWGHLIEDKRHSADWVGHCLQRGPGYPSVQGTYIIWQLTSSSQLFYDTSC'"
      ]
     },
     "execution_count": 76,
     "metadata": {},
     "output_type": "execute_result"
    }
   ],
   "source": [
    "translateProtein(\"E:\\\\Biddle Lab\\\\Rosalind Project\\\\rosalind_prot.txt\",\"E:\\\\Biddle Lab\\\\Rosalind Project\\\\rosalind_codontable.txt\")"
   ]
  },
  {
   "cell_type": "code",
   "execution_count": null,
   "metadata": {},
   "outputs": [],
   "source": []
  }
 ],
 "metadata": {
  "kernelspec": {
   "display_name": "Python 3",
   "language": "python",
   "name": "python3"
  },
  "language_info": {
   "codemirror_mode": {
    "name": "ipython",
    "version": 3
   },
   "file_extension": ".py",
   "mimetype": "text/x-python",
   "name": "python",
   "nbconvert_exporter": "python",
   "pygments_lexer": "ipython3",
   "version": "3.8.2"
  }
 },
 "nbformat": 4,
 "nbformat_minor": 4
}
